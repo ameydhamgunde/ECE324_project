{
  "nbformat": 4,
  "nbformat_minor": 0,
  "metadata": {
    "colab": {
      "provenance": []
    },
    "kernelspec": {
      "name": "python3",
      "display_name": "Python 3"
    },
    "language_info": {
      "name": "python"
    },
    "gpuClass": "standard"
  },
  "cells": [
    {
      "cell_type": "code",
      "execution_count": null,
      "metadata": {
        "id": "VVvz29tre8gQ"
      },
      "outputs": [],
      "source": [
        "import torch\n",
        "from torch import nn\n",
        "from torchaudio import transforms\n",
        "import torchaudio\n",
        "import numpy as np\n",
        "import matplotlib.pyplot as plt\n",
        "from scipy import signal\n",
        "from scipy import io\n",
        "from scipy.io import wavfile\n",
        "import os\n",
        "\n",
        "class spectralEncoder(nn.Module):\n",
        "  def __init__(self,in_channels,t):\n",
        "    super().__init__()\n",
        "    kernel_size = (8,1)\n",
        "    stride = (4,1)\n",
        "    self.t = t\n",
        "    self.activation_fn = nn.GELU()\n",
        "    self.conv1 = nn.Conv2d(in_channels = in_channels, out_channels = 48,kernel_size = kernel_size, stride = stride,padding = (2,0))\n",
        "    self.conv2 = nn.Conv2d(in_channels = 48, out_channels = 96, kernel_size = kernel_size, stride = stride,padding = (2,0))\n",
        "    self.conv3 = nn.Conv2d(in_channels = 96, out_channels = 192, kernel_size = kernel_size, stride = stride,padding = (2,0))\n",
        "    self.conv4 = nn.Conv2d(in_channels = 192, out_channels = 384, kernel_size = kernel_size, stride = stride,padding = (2,0))\n",
        "    self.upsample1 = nn.Upsample(size = (32, t), mode = 'bilinear')\n",
        "    self.deconv1 = nn.Conv2d(in_channels = 384, out_channels = 192,kernel_size= kernel_size, stride = 1,padding = \"same\")\n",
        "    self.deconv1_2 = nn.Conv2d(in_channels = 384, out_channels = 192,kernel_size = kernel_size, stride = 1,padding = \"same\") #after concat\n",
        "\n",
        "    self.upsample2 = nn.Upsample(size = (128, t), mode = 'bilinear')\n",
        "    self.deconv2 = nn.Conv2d(in_channels = 192, out_channels = 96,kernel_size=kernel_size, stride = 1,padding = \"same\")\n",
        "    self.deconv2_2 = nn.Conv2d(in_channels = 192, out_channels = 96, kernel_size=kernel_size, stride = 1,padding = \"same\")\n",
        "\n",
        "    self.upsample3 = nn.Upsample(size = (512, t), mode = 'bilinear')\n",
        "    self.deconv3 = nn.Conv2d(in_channels = 96, out_channels = 48,kernel_size=kernel_size, stride = 1,padding = \"same\")\n",
        "    self.deconv3_2 = nn.Conv2d(in_channels = 96, out_channels = 48, kernel_size=kernel_size, stride = 1,padding = \"same\")\n",
        "\n",
        "    self.upsample4 = nn.Upsample(size = (2048, t), mode = 'bilinear')\n",
        "    self.deconv4 = nn.Conv2d(in_channels = 48, out_channels = 48,kernel_size=kernel_size, stride = 1,padding = \"same\")\n",
        "    self.finalconv = nn.Conv2d(in_channels = 48+in_channels, out_channels = 48+in_channels, kernel_size = kernel_size, stride = 1,padding = \"same\")\n",
        "\n",
        "    self.predictionconv = nn.Conv2d(in_channels = 48+in_channels, out_channels = 3, kernel_size = kernel_size, stride = 1, padding = \"same\")\n",
        "    #self.invspec = transforms.InverseSpectrogram(n_fft = 4095)\n",
        "  def forward(self,x):\n",
        "    x_conv1 = self.conv1(x)\n",
        "    x_conv1 = self.activation_fn(x_conv1)\n",
        "    #print(x_conv1.shape)\n",
        "    x_conv2 = self.conv2(x_conv1)\n",
        "    x_conv2 = self.activation_fn(x_conv2)\n",
        "    #print(x_conv2.shape)\n",
        "    x_conv3 = self.conv3(x_conv2)\n",
        "    x_conv3 = self.activation_fn(x_conv3)\n",
        "    #print(x_conv3.shape)\n",
        "    x_conv4 = self.conv4(x_conv3)\n",
        "    x_conv4 = self.activation_fn(x_conv4)\n",
        "    #print(x_conv4.shape)\n",
        "    x_up1 = self.upsample1(x_conv4)\n",
        "    x_up1 = self.deconv1(x_up1)\n",
        "    #print(x_conv3.shape,x_up1.shape)\n",
        "    x_deconv1 = self.deconv1_2(torch.cat((x_conv3, x_up1),dim = 1))\n",
        "    \n",
        "    x_up2 = self.upsample2(x_deconv1)\n",
        "    x_up2 = self.deconv2(x_up2)\n",
        "    #print(x_conv2.shape,x_up2.shape)\n",
        "    x_deconv2 = self.deconv2_2(torch.cat((x_conv2, x_up2),dim = 1))\n",
        "\n",
        "    x_up3 = self.upsample3(x_deconv2)\n",
        "    x_up3 = self.deconv3(x_up3)\n",
        "    #print(x_conv1.shape,x_up3.shape)\n",
        "    x_deconv3 = self.deconv3_2(torch.cat((x_conv1, x_up3),dim = 1))\n",
        "\n",
        "    x_up4 = self.upsample4(x_deconv3)\n",
        "    x_up4 = self.deconv4(x_up4)\n",
        "    #print(x.shape,x_up4.shape)\n",
        "    x_deconv4 = self.finalconv(torch.cat((x, x_up4),dim = 1))\n",
        "    preds = self.predictionconv(x_deconv4)\n",
        "    #waveform = self.invspec(preds, self.t)\n",
        "    return preds\n",
        "\n",
        "\n",
        "\n",
        "class temporalEncoder(nn.Module):\n",
        "  def __init__(self, in_channels,sample_rate, kernel_duration):\n",
        "    super().__init__()\n",
        "    #self.kernel_size = int(np.round(sample_rate * kernel_duration))\n",
        "    self.kernel_size = 5\n",
        "    self.activation_fn = nn.GELU()\n",
        "    self.conv1 = nn.Conv1d(in_channels = in_channels, out_channels = 4, kernel_size = self.kernel_size,padding = 'same') #we want kernel size to be fixed time duration, say 0.05 seconds.\n",
        "    self.conv2 = nn.Conv1d(in_channels = 4, out_channels = 8, kernel_size = self.kernel_size, padding = 'same')\n",
        "    self.conv3 = nn.Conv1d(in_channels = 8, out_channels = 16, kernel_size = self.kernel_size, padding = 'same')\n",
        "    self.conv4 = nn.Conv1d(in_channels = 16, out_channels = 32, kernel_size = self.kernel_size, padding = 'same') #output has 384 feature channels\n",
        "  def forward(self, sample):\n",
        "    print(self.kernel_size)\n",
        "    conv_1 = self.conv1(sample)\n",
        "    conv_1 = self.activation_fn(conv_1)\n",
        "    print(\"conv1 done\")\n",
        "    conv_2 = self.conv2(conv_1)\n",
        "    conv_2 = self.activation_fn(conv_2)\n",
        "    print(\"conv2 done\")\n",
        "    conv_3 = self.conv3(conv_2)\n",
        "    conv_3 = self.activation_fn(conv_3)\n",
        "    print(\"conv3 done\")\n",
        "    conv_4 = self.conv4(conv_3)\n",
        "    conv_4 = self.activation_fn(conv_4)\n",
        "    print(\"conv4 done\")\n",
        "    return conv_4\n",
        "\n",
        "\n"
      ]
    },
    {
      "cell_type": "markdown",
      "source": [
        "Data loading:\n",
        "\n",
        "- Load all music tracks (sampled at 44100 hz), cut into 15 s segments, into memory. \n",
        "- Only train on one 30 s segment at ONCE. This is because once converted into a spectrogram, a 30 s segment spectrogram has (733 time bins * 2048 freq bins * 4 bytes per element) = 6 GB of memory required for one piece. \n",
        "\n",
        "Memory required to train on 1 piece + 3 ground truth channels = 24 GB memory minimum"
      ],
      "metadata": {
        "id": "1zZXXW7sDKJq"
      }
    },
    {
      "cell_type": "code",
      "source": [
        "if (os.getcwd() != \"/content/drive/MyDrive/Year 3/ECE324_project/data\"):\n",
        "  os.chdir(\"/content/drive/MyDrive/Year 3/ECE324_project/data\")\n",
        "\n",
        "sample_rate = 44100\n",
        "clip_len = 5\n",
        "num_instruments = 3\n",
        "instrument_dict = {0:\"clarinet\", 1:\"guitar\", 2:\"piano\"}\n",
        "\n",
        "train_X = np.zeros((3,1,sample_rate * clip_len))\n",
        "train_Y = np.zeros((3,3,sample_rate * clip_len))\n",
        "\n",
        "for music_type in [\"mix\", \"same\"]:\n",
        "  pieces = os.listdir(music_type)\n",
        "  for music_piece in range(len(pieces)):\n",
        "    _, combined_signal = io.wavfile.read(f\"{music_type}/{pieces[music_piece]}/all.wav\")\n",
        "    piece_len = combined_signal.shape[0]\n",
        "    combined_signal = np.pad(combined_signal, pad_width = (0,(piece_len//(sample_rate*clip_len)+1)*(sample_rate*clip_len) - piece_len))\n",
        "    train_X[:,0,:] = np.split(combined_signal, combined_signal.shape[0] / (sample_rate*clip_len), axis = 0)[:3] #let's only load 3 30 second clips for now\n",
        "    for instrument_idx in range(num_instruments):\n",
        "      _, combined_signal = io.wavfile.read(f\"{music_type}/{pieces[music_piece]}/stems/{instrument_dict[instrument_idx]}.wav\")\n",
        "      piece_len = combined_signal.shape[0]\n",
        "      combined_signal = np.pad(combined_signal[:,0], pad_width = (0,(piece_len//(sample_rate*clip_len)+1)*(sample_rate*clip_len) - piece_len))\n",
        "      train_Y[:,instrument_idx,:] = np.split(combined_signal, combined_signal.shape[0] / (sample_rate*clip_len), axis = 0)[:3] #let's only load 3 30 second clips for now\n",
        "\n"
      ],
      "metadata": {
        "id": "syvfqjHpS-rQ"
      },
      "execution_count": null,
      "outputs": []
    },
    {
      "cell_type": "markdown",
      "source": [
        "training data = np.array(num samples, 1 channel, audio signal)\n",
        "\n",
        "ground truth = np.array(num samples, 3 instruments, audio signal)"
      ],
      "metadata": {
        "id": "xalJD73GFJ9h"
      }
    },
    {
      "cell_type": "code",
      "source": [
        "train_X[0,:,:].shape"
      ],
      "metadata": {
        "colab": {
          "base_uri": "https://localhost:8080/"
        },
        "id": "1XB4e8XG7umv",
        "outputId": "d622b129-53ab-4a6e-d7b0-57cab0449c63"
      },
      "execution_count": null,
      "outputs": [
        {
          "output_type": "execute_result",
          "data": {
            "text/plain": [
              "(1, 220500)"
            ]
          },
          "metadata": {},
          "execution_count": 3
        }
      ]
    },
    {
      "cell_type": "markdown",
      "source": [
        "Plot one 30s clip spectrogram along with its ground truths. "
      ],
      "metadata": {
        "id": "eBFu1AtpUdjK"
      }
    },
    {
      "cell_type": "code",
      "source": [
        "spec = transforms.Spectrogram(n_fft=4095)\n",
        "x_gram = spec(torch.from_numpy(train_X[0,0,:]))\n",
        "piano_gram = spec(torch.from_numpy(train_Y[0,0,:]))\n",
        "clarinet_gram = spec(torch.from_numpy(train_Y[0,1,:]))\n",
        "guitar_gram = spec(torch.from_numpy(train_Y[0,2,:]))\n",
        "plt.pcolormesh(x_gram[:400,:])\n",
        "plt.show()\n",
        "plt.pcolormesh(piano_gram[:400,:])\n",
        "plt.show()\n",
        "plt.pcolormesh(clarinet_gram[:400,:])\n",
        "plt.show()\n",
        "plt.pcolormesh(guitar_gram[:400,:])\n",
        "plt.show()\n"
      ],
      "metadata": {
        "colab": {
          "base_uri": "https://localhost:8080/",
          "height": 1000
        },
        "id": "ChqDd-0qA2n7",
        "outputId": "f8808758-6eec-4712-9b49-f6baf0fc610a"
      },
      "execution_count": null,
      "outputs": [
        {
          "output_type": "display_data",
          "data": {
            "text/plain": [
              "<Figure size 432x288 with 1 Axes>"
            ],
            "image/png": "[encoded data removed]"
          },
          "metadata": {
            "needs_background": "light"
          }
        },
        {
          "output_type": "display_data",
          "data": {
            "text/plain": [
              "<Figure size 432x288 with 1 Axes>"
            ],
            "image/png": "[encoded data removed]"
          },
          "metadata": {
            "needs_background": "light"
          }
        },
        {
          "output_type": "display_data",
          "data": {
            "text/plain": [
              "<Figure size 432x288 with 1 Axes>"
            ],
            "image/png": "[encoded data removed]"
          },
          "metadata": {
            "needs_background": "light"
          }
        },
        {
          "output_type": "display_data",
          "data": {
            "text/plain": [
              "<Figure size 432x288 with 1 Axes>"
            ],
            "image/png": "[encoded data removed]"
          },
          "metadata": {
            "needs_background": "light"
          }
        }
      ]
    },
    {
      "cell_type": "code",
      "source": [
        "s = spectralEncoder(in_channels = 1, t = piano_gram.shape[1])\n",
        "s.train()\n",
        "p = np.expand_dims(piano_gram,axis = (0,1)).astype(np.float32)\n",
        "print(p.shape)\n",
        "s(torch.from_numpy(p)).shape"
      ],
      "metadata": {
        "colab": {
          "base_uri": "https://localhost:8080/"
        },
        "id": "7-IUOGbhcjum",
        "outputId": "f32f7e90-bcab-4cbd-d59c-c40699eda440"
      },
      "execution_count": null,
      "outputs": [
        {
          "output_type": "stream",
          "name": "stdout",
          "text": [
            "(1, 1, 2048, 108)\n"
          ]
        },
        {
          "output_type": "execute_result",
          "data": {
            "text/plain": [
              "torch.Size([1, 3, 2048, 108])"
            ]
          },
          "metadata": {},
          "execution_count": 18
        }
      ]
    },
    {
      "cell_type": "markdown",
      "source": [
        "train_data_x = np.array(num samples, 1 channel, audio signal)\n",
        "\n",
        "train_data_Y = np.array(num samples, 3 instruments, audio signal)"
      ],
      "metadata": {
        "id": "Z0cyIgnAM17l"
      }
    },
    {
      "cell_type": "code",
      "source": [
        "def train(model, n_epochs, batch_size, optimizer, loss_function, train_data_X, train_data_Y, val_data_X, val_data_Y):\n",
        "  X = train_data_X[:,:,:]\n",
        "  Y = train_data_Y[:,:,:]\n",
        "  for epoch in range(n_epochs):\n",
        "    print(epoch)\n",
        "    for phase in [\"train\"]:\n",
        "      loss = 0\n",
        "      for i in range(0,X.shape[0], batch_size): #loop over num samples\n",
        "        batch = X[i*batch_size:(i+1)*batch_size,:,:].astype(np.float32)\n",
        "        batch = torch.from_numpy(batch).float().to(device)\n",
        "        batch_spec = spec(batch)\n",
        "\n",
        "        true_batch = Y[i*batch_size:(i+1)*batch_size,:,:].astype(np.float32)\n",
        "        true_batch = torch.from_numpy(true_batch).float().to(device)\n",
        "        true_batch_spec = spec(true_batch)\n",
        "        if phase ==\"train\":\n",
        "          model.train()\n",
        "        else:\n",
        "          model.eval()\n",
        "        optimizer.zero_grad()\n",
        "        pred_batch = model(batch_spec) #Colab crashes here because not enough RAM, but I can run this line separately on Colab no problem.\n",
        "        batch_loss = loss_function(pred_batch, true_batch_spec)\n",
        "        if phase ==\"train\":\n",
        "          batch_loss.backward()\n",
        "          optimizer.step()\n",
        "\n"
      ],
      "metadata": {
        "id": "D8_RPZlBZoxo"
      },
      "execution_count": null,
      "outputs": []
    },
    {
      "cell_type": "code",
      "source": [],
      "metadata": {
        "id": "yc8a2gx8WnpS"
      },
      "execution_count": null,
      "outputs": []
    },
    {
      "cell_type": "code",
      "source": [
        "device = torch.device('cpu')\n",
        "segnet = spectralEncoder(in_channels = train_X.shape[1], t = train_X.shape[2])\n",
        "loss_fun = nn.MSELoss()\n",
        "optimizer = torch.optim.Adam(segnet.parameters(), lr = 0.001)\n",
        "train(model = segnet, n_epochs = 2, batch_size = 1, optimizer = optimizer, loss_function = loss_fun, train_data_X = train_X, train_data_Y = train_Y, val_data_X = None, val_data_Y = None)"
      ],
      "metadata": {
        "id": "od0kl9kM8uMw",
        "colab": {
          "base_uri": "https://localhost:8080/"
        },
        "outputId": "8b56385a-26b3-4bd9-ed93-26130c09d725"
      },
      "execution_count": null,
      "outputs": [
        {
          "output_type": "stream",
          "name": "stdout",
          "text": [
            "0\n",
            "(1, 1, 220500)\n",
            "torch.Size([1, 1, 2048, 108])\n",
            "torch.Size([1, 3, 2048, 108])\n",
            "model train\n"
          ]
        }
      ]
    },
    {
      "cell_type": "code",
      "source": [
        "train_X.shape"
      ],
      "metadata": {
        "id": "SoV91Zq4Qkdf"
      },
      "execution_count": null,
      "outputs": []
    }
  ]
}